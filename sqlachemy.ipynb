{
 "cells": [
  {
   "cell_type": "code",
   "execution_count": 31,
   "metadata": {},
   "outputs": [],
   "source": [
    "from sqlalchemy import create_engine\n",
    "from sqlalchemy.ext.declarative import declarative_base\n",
    "from sqlalchemy import String, Column, Integer, DateTime\n",
    "from sqlalchemy.orm import sessionmaker\n",
    "from sqlalchemy import func\n",
    "\n",
    "db_path = 'sqlite:///company1.db'\n",
    "engine = create_engine(db_path, echo=False)\n",
    "\n",
    "Base = declarative_base()\n",
    "Session = sessionmaker(bind=engine)\n",
    "session = Session()\n",
    "\n",
    "class Template(Base):\n",
    "    \n",
    "    __abstract__ = True\n",
    "    id = Column(Integer, primary_key=True)\n",
    "    time_created = Column(DateTime(timezone=True), server_default=func.now())\n",
    "    time_updated = Column(DateTime(timezone=True), server_default=func.now(), onupdate=func.now())\n",
    "    \n",
    "class Employee(Template):\n",
    "    __tablename__ = \"employee\"\n",
    "    \n",
    "    first_name = Column(String(100))\n",
    "    last_name = Column(String(100))\n",
    "    gender = Column(String(32))\n",
    "    \n",
    "    def __init__(self, first_name, last_name, gender):\n",
    "        self.first_name = first_name\n",
    "        self.last_name = last_name\n",
    "        self.gender = gender\n",
    "        \n",
    "    def __repr__(self):\n",
    "        return '<Employee %s, %s>' % (self.first_name, self.last_name)\n",
    "    \n",
    "Base.metadata.create_all(engine)\n",
    "\n",
    "akeem = Employee(first_name=\"Akeem\", last_name=\"Joffer\", gender=\"Male\")\n",
    "session.add(akeem)\n",
    "\n",
    "session.add_all([\n",
    "    Employee(\"Joe\", \"Smith\", \"Male\"),\n",
    "    Employee(\"Jill\", \"Williams\", \"Female\"),\n",
    "    Employee(\"John\", \"Doe\", \"Male\")\n",
    "])\n",
    "\n",
    "session.commit()"
   ]
  },
  {
   "cell_type": "code",
   "execution_count": 32,
   "metadata": {},
   "outputs": [
    {
     "name": "stdout",
     "output_type": "stream",
     "text": [
      "<Employee Akeem, Joffer>\n",
      "Akeem Joffer 2018-07-13 01:14:09\n",
      "<Employee Joe, Smith>\n",
      "Joe Smith 2018-07-13 01:14:09\n",
      "<Employee Jill, Williams>\n",
      "Jill Williams 2018-07-13 01:14:09\n",
      "<Employee John, Doe>\n",
      "John Doe 2018-07-13 01:14:09\n",
      "<Employee Akeem, Joffer>\n",
      "Akeem Joffer 2018-07-13 01:14:17\n",
      "<Employee Joe, Smith>\n",
      "Joe Smith 2018-07-13 01:14:18\n",
      "<Employee Jill, Williams>\n",
      "Jill Williams 2018-07-13 01:14:18\n",
      "<Employee John, Doe>\n",
      "John Doe 2018-07-13 01:14:18\n"
     ]
    }
   ],
   "source": [
    "myemployees = session.query(Employee).order_by(Employee.id)\n",
    "for person in myemployees:\n",
    "    print (person)\n",
    "    print(person.first_name, person.last_name, person.time_created)"
   ]
  },
  {
   "cell_type": "code",
   "execution_count": 26,
   "metadata": {},
   "outputs": [],
   "source": [
    "import csv\n",
    "\n",
    "with open('employees.csv', 'r') as csvfile:\n",
    "    data = csv.reader(csvfile, delimiter=\",\")\n",
    "    for row in data:\n",
    "        session.add(Employee(first_name=row[0], last_name=row[1], gender=row[2]))\n",
    "    session.commit()\n"
   ]
  },
  {
   "cell_type": "code",
   "execution_count": null,
   "metadata": {},
   "outputs": [],
   "source": []
  }
 ],
 "metadata": {
  "kernelspec": {
   "display_name": "Python 3",
   "language": "python",
   "name": "python3"
  },
  "language_info": {
   "codemirror_mode": {
    "name": "ipython",
    "version": 3
   },
   "file_extension": ".py",
   "mimetype": "text/x-python",
   "name": "python",
   "nbconvert_exporter": "python",
   "pygments_lexer": "ipython3",
   "version": "3.5.4"
  }
 },
 "nbformat": 4,
 "nbformat_minor": 2
}
